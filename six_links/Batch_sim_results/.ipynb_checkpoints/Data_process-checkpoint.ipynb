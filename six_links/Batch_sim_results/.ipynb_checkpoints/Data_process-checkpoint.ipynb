{
 "cells": [
  {
   "cell_type": "code",
   "execution_count": 27,
   "metadata": {},
   "outputs": [],
   "source": [
    "import pandas as pd\n",
    "import pdb"
   ]
  },
  {
   "cell_type": "code",
   "execution_count": 31,
   "metadata": {},
   "outputs": [],
   "source": [
    "data = pd.read_csv('0226231200.csv',converters={'Var1': lambda x: str(x)})"
   ]
  },
  {
   "cell_type": "code",
   "execution_count": 32,
   "metadata": {},
   "outputs": [],
   "source": [
    "data.sort_values(by=['Var3'])\n",
    "hipLen_list = pd.unique(data.loc[:,'Var3'])\n",
    "model_list = pd.unique(data.loc[:,'Var2'])\n",
    "knee_list = pd.unique(data.loc[:,'Var5'])"
   ]
  },
  {
   "cell_type": "code",
   "execution_count": null,
   "metadata": {},
   "outputs": [
    {
     "name": "stdout",
     "output_type": "stream",
     "text": [
      "> <ipython-input-33-2a2d836d26d5>(10)<module>()\n",
      "-> if 'result_df' in locals():\n"
     ]
    },
    {
     "name": "stdin",
     "output_type": "stream",
     "text": [
      "(Pdb)  n\n"
     ]
    },
    {
     "name": "stdout",
     "output_type": "stream",
     "text": [
      "> <ipython-input-33-2a2d836d26d5>(13)<module>()\n",
      "-> result_df = cur_knee\n"
     ]
    },
    {
     "name": "stdin",
     "output_type": "stream",
     "text": [
      "(Pdb)  n\n"
     ]
    },
    {
     "name": "stdout",
     "output_type": "stream",
     "text": [
      "> <ipython-input-33-2a2d836d26d5>(7)<module>()\n",
      "-> for knee in knee_list:\n"
     ]
    },
    {
     "name": "stdin",
     "output_type": "stream",
     "text": [
      "(Pdb)  c\n"
     ]
    },
    {
     "name": "stdout",
     "output_type": "stream",
     "text": [
      "> <ipython-input-33-2a2d836d26d5>(10)<module>()\n",
      "-> if 'result_df' in locals():\n"
     ]
    },
    {
     "name": "stdin",
     "output_type": "stream",
     "text": [
      "(Pdb)  n\n"
     ]
    },
    {
     "name": "stdout",
     "output_type": "stream",
     "text": [
      "> <ipython-input-33-2a2d836d26d5>(11)<module>()\n",
      "-> result_df = pd.concat([result_df,cur_knee],ignore_index=True)\n"
     ]
    },
    {
     "name": "stdin",
     "output_type": "stream",
     "text": [
      "(Pdb)  n\n"
     ]
    },
    {
     "name": "stdout",
     "output_type": "stream",
     "text": [
      "> <ipython-input-33-2a2d836d26d5>(7)<module>()\n",
      "-> for knee in knee_list:\n"
     ]
    },
    {
     "name": "stdin",
     "output_type": "stream",
     "text": [
      "(Pdb)  result_df\n"
     ]
    },
    {
     "name": "stdout",
     "output_type": "stream",
     "text": [
      "              Var1     Var2    Var3  Var4  Var5         Var6\n",
      "0   02262310200101  human_9  2.0754  base     1  1418.591917\n",
      "1   02262310160111  human_9  2.0754   hip     1  1418.591917\n",
      "2   02262310190121  human_9  2.0754  knee     1  1418.591917\n",
      "3   02262310160131  human_9  2.0754   ank     1  1418.591917\n",
      "4   02262310550141  human_9  2.0754    hk     1  1418.591917\n",
      "5   02262310390151  human_9  2.0754    ha     1  1418.591917\n",
      "6   02262310210161  human_9  2.0754    ka     1  1418.591917\n",
      "7   02262310180102  human_9  2.0754  base     0  2587.211540\n",
      "8   02262310140112  human_9  2.0754   hip     0  2587.211540\n",
      "9   02262310180122  human_9  2.0754  knee     0  2587.211540\n",
      "10  02262310150132  human_9  2.0754   ank     0  2587.211540\n",
      "11  02262310540142  human_9  2.0754    hk     0  2587.211540\n",
      "12  02262310380152  human_9  2.0754    ha     0  2587.211540\n",
      "13  02262311090162  human_9  2.0754    ka     0  2587.211540\n"
     ]
    },
    {
     "name": "stdin",
     "output_type": "stream",
     "text": [
      "(Pdb)  c\n"
     ]
    },
    {
     "name": "stdout",
     "output_type": "stream",
     "text": [
      "> <ipython-input-33-2a2d836d26d5>(10)<module>()\n",
      "-> if 'result_df' in locals():\n"
     ]
    },
    {
     "name": "stdin",
     "output_type": "stream",
     "text": [
      "(Pdb)  n\n"
     ]
    },
    {
     "name": "stdout",
     "output_type": "stream",
     "text": [
      "> <ipython-input-33-2a2d836d26d5>(11)<module>()\n",
      "-> result_df = pd.concat([result_df,cur_knee],ignore_index=True)\n"
     ]
    },
    {
     "name": "stdin",
     "output_type": "stream",
     "text": [
      "(Pdb)  c\n"
     ]
    },
    {
     "name": "stdout",
     "output_type": "stream",
     "text": [
      "> <ipython-input-33-2a2d836d26d5>(9)<module>()\n",
      "-> pdb.set_trace()\n"
     ]
    },
    {
     "name": "stdin",
     "output_type": "stream",
     "text": [
      "(Pdb)  result_df\n"
     ]
    },
    {
     "name": "stdout",
     "output_type": "stream",
     "text": [
      "              Var1          Var2    Var3  Var4  Var5         Var6\n",
      "0   02262310200101       human_9  2.0754  base     1  1418.591917\n",
      "1   02262310160111       human_9  2.0754   hip     1  1418.591917\n",
      "2   02262310190121       human_9  2.0754  knee     1  1418.591917\n",
      "3   02262310160131       human_9  2.0754   ank     1  1418.591917\n",
      "4   02262310550141       human_9  2.0754    hk     1  1418.591917\n",
      "5   02262310390151       human_9  2.0754    ha     1  1418.591917\n",
      "6   02262310210161       human_9  2.0754    ka     1  1418.591917\n",
      "7   02262310180102       human_9  2.0754  base     0  2587.211540\n",
      "8   02262310140112       human_9  2.0754   hip     0  2587.211540\n",
      "9   02262310180122       human_9  2.0754  knee     0  2587.211540\n",
      "10  02262310150132       human_9  2.0754   ank     0  2587.211540\n",
      "11  02262310540142       human_9  2.0754    hk     0  2587.211540\n",
      "12  02262310380152       human_9  2.0754    ha     0  2587.211540\n",
      "13  02262311090162       human_9  2.0754    ka     0  2587.211540\n",
      "14  02262310540101  human_9_load  2.0754  base     1  1418.591917\n",
      "15  02262310390111  human_9_load  2.0754   hip     1  1418.591917\n",
      "16  02262311080121  human_9_load  2.0754  knee     1  1418.591917\n",
      "17  02262310520131  human_9_load  2.0754   ank     1  1418.591917\n",
      "18  02262310360141  human_9_load  2.0754    hk     1  1418.591917\n",
      "19  02262311070151  human_9_load  2.0754    ha     1  1418.591917\n",
      "20  02262310520161  human_9_load  2.0754    ka     1  1418.591917\n"
     ]
    }
   ],
   "source": [
    "if 'result_df' in locals():\n",
    "    del result_df\n",
    "\n",
    "for idx,hipLen in enumerate(hipLen_list):\n",
    "    cur_hipLen=data[data['Var3']==hipLen]\n",
    "    for model in model_list:\n",
    "        cur_model = cur_hipLen[cur_hipLen['Var2']==model]\n",
    "        for knee in knee_list:\n",
    "            cur_knee = cur_model[cur_model['Var5']==knee]\n",
    "            pdb.set_trace()\n",
    "            if 'result_df' in locals():\n",
    "                result_df = pd.concat([result_df,cur_knee],ignore_index=True)\n",
    "            else:\n",
    "                result_df = cur_knee               \n",
    "    result_df.to_csv('step'+str(idx),index=False)"
   ]
  },
  {
   "cell_type": "code",
   "execution_count": null,
   "metadata": {},
   "outputs": [],
   "source": [
    "\n",
    "    "
   ]
  }
 ],
 "metadata": {
  "kernelspec": {
   "display_name": "Python 3",
   "language": "python",
   "name": "python3"
  },
  "language_info": {
   "codemirror_mode": {
    "name": "ipython",
    "version": 3
   },
   "file_extension": ".py",
   "mimetype": "text/x-python",
   "name": "python",
   "nbconvert_exporter": "python",
   "pygments_lexer": "ipython3",
   "version": "3.7.3"
  }
 },
 "nbformat": 4,
 "nbformat_minor": 2
}
