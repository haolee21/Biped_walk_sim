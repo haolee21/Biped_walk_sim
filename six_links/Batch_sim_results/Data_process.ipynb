{
 "cells": [
  {
   "cell_type": "code",
   "execution_count": 5,
   "metadata": {},
   "outputs": [],
   "source": [
    "import pandas as pd\n",
    "import pdb"
   ]
  },
  {
   "cell_type": "code",
   "execution_count": 6,
   "metadata": {},
   "outputs": [],
   "source": [
    "data = pd.read_csv('0227091735.csv',converters={'fileName': lambda x: str(x)})"
   ]
  },
  {
   "cell_type": "code",
   "execution_count": 3,
   "metadata": {},
   "outputs": [],
   "source": [
    "data.sort_values(by=['hipLen'])\n",
    "hipLen_list = pd.unique(data.loc[:,'hipLen'])\n",
    "model_list = pd.unique(data.loc[:,'modelName'])\n",
    "knee_list = pd.unique(data.loc[:,'kneeDir'])"
   ]
  },
  {
   "cell_type": "code",
   "execution_count": 4,
   "metadata": {},
   "outputs": [],
   "source": [
    "if 'result_df' in locals():\n",
    "    del result_df\n",
    "\n",
    "for idx,hipLen in enumerate(hipLen_list):\n",
    "    cur_hipLen=data[data['hipLen']==hipLen]\n",
    "    for model in model_list:\n",
    "        cur_model = cur_hipLen[cur_hipLen['modelName']==model]\n",
    "        for knee in knee_list:\n",
    "            cur_knee = cur_model[cur_model['kneeDir']==knee]\n",
    "#             pdb.set_trace()\n",
    "            if 'result_df' in locals():\n",
    "                result_df = pd.concat([result_df,cur_knee],ignore_index=True)\n",
    "            else:\n",
    "                result_df = cur_knee               \n",
    "    result_df.to_csv('step'+str(idx)+'.csv',index=False)\n",
    "    del result_df"
   ]
  },
  {
   "cell_type": "code",
   "execution_count": null,
   "metadata": {},
   "outputs": [],
   "source": [
    "\n",
    "    "
   ]
  }
 ],
 "metadata": {
  "kernelspec": {
   "display_name": "Python 3",
   "language": "python",
   "name": "python3"
  },
  "language_info": {
   "codemirror_mode": {
    "name": "ipython",
    "version": 3
   },
   "file_extension": ".py",
   "mimetype": "text/x-python",
   "name": "python",
   "nbconvert_exporter": "python",
   "pygments_lexer": "ipython3",
   "version": "3.7.3"
  }
 },
 "nbformat": 4,
 "nbformat_minor": 2
}
